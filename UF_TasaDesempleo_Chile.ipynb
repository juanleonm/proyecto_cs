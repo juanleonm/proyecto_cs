{
 "cells": [
  {
   "cell_type": "markdown",
   "id": "e540e1ca",
   "metadata": {},
   "source": [
    "# <img style=\"float: left; padding-right: 0.7cm; width: 3.0cm\" src=\"https://upload.wikimedia.org/wikipedia/commons/thumb/8/84/Escudo_de_la_Pontificia_Universidad_Cat%C3%B3lica_de_Chile.svg/179px-Escudo_de_la_Pontificia_Universidad_Cat%C3%B3lica_de_Chile.svg.png\"> IMT 2200 - Introducción a Ciencia de Datos\n",
    "**Pontificia Universidad Católica de Chile**<br>\n",
    "**Semestre 2021-1**<br>\n",
    "**Autores:** Juan León, Alonso Tamayo, Bruno Cerda, Ignacio Leiva<br>\n",
    "\n",
    "----"
   ]
  },
  {
   "cell_type": "markdown",
   "id": "9e4ef532",
   "metadata": {},
   "source": [
    "<h1><center> Estudio del valor de la Unidad de Fomento (UF) y Tasa de Desempleo Chilena </center></h1>"
   ]
  },
  {
   "cell_type": "markdown",
   "id": "6290cd41",
   "metadata": {},
   "source": [
    "## Contexto y motivación\n",
    "\n",
    "Sin duda alguna, la economia es uno de los temas mas importante desde hace muchas decadas atrás, protagonista de cientos de debates y discusiones, por lo que siempre es un tema interesante el cual analizar. Para esta ocasión nos centraremos en dos de los mas importante indicadores economicos chilenos, la *Tasa de Desempleo* y la *Unidad de Fomento*.\n",
    "\n",
    "En el último tiempo el desempleo y su aumento ha estado en boca de todos y no es extraño preguntarse el por qué. Hay muchos factores que pueden influir en su valor, y nos importa de sobremanera estudiar algunos de ellos como el covid y algunos de los principales índices económicos en Chile, para llegar a conclusiones que nos ayuden a comprender mejor este fenómeno.\n",
    "\n",
    "A su vez, la unidad de fomento tiene gran importancia ya que su valor se ve directamente relacionado con la inflación y nos interesa estudiar su comportamiento en pandemia para saber si tuvo alguna consecuencia a partir de la alza en los casos y  tambien otros indicadores económicos que influyen en su valor.\n",
    "\n",
    "Nos parecio importante no tan solo ver que tanto influyen los demas indicadores economicos en *UF y Tasa de Desempleo* sino  tambien que tanto influyeron los casos de covid debido a que según el [Banco Mundial](https://www.bancomundial.org/es/news/press-release/2020/06/08/covid-19-to-plunge-global-economy-into-worst-recession-since-world-war-ii) , puesto que el COVID-19 ha causado la peor recesión económica desde la segunda guerra mundial, causando que la economía mundial se redujera en un 5,2%. \n",
    "\n",
    "Se estima que las economías avanzadas se contraerán un 7% y las economías emergentes un 2,5%, a partir de esta cifra nosotros nos preguntamos como están relacionadas las cifras económicas y el COVID-19, comparandolas con la Unidad de fomento (UF), la cual permite mantener el poder adquisitivo de los bienes de las personas afectadas por la inflacion causada por el COVID-19, y la Tasa de Desempleo, tambien empeorada llegando a un 12,9%. \n"
   ]
  },
  {
   "cell_type": "markdown",
   "id": "4a054978",
   "metadata": {},
   "source": [
    "## Objetivos\n",
    "\n",
    "Buscamos responder efectivamente que tanto afectaron la pandemia y los indicadores economicos chilenos en la Unidad de Fomento (UF) y la tasa de desempleo. El objetivo es conocer resultados mas precisos y específicos sobre como se relacionan los efectos de la pandemia con los dos indicadores economicos mencionados anteriormente de la economía del país, y de esta manera también encontrar cuales de estos fueron los mas afectados, estos resultados pueden ser de gran aporte e importancia para economistas o instituciones que busquen tomar precauciones o medidas para prevenir en primer lugar que estos efectos adversos ocurran en el futuro. \n",
    "\n",
    "Las preguntas que buscamos responder con nuestro análisis de los datos son las siguientes:\n",
    "\n",
    "\n",
    "* ¿Cúales indicadores económicos son los que mantienen una mayor relación con la Unidad de Fomento (UF) y la tasa de desempleo, y cuales mantienen una menor relación.\n",
    "\n",
    "* ¿Tuvo el COVID-19 una relación directa en el aumento de la tasa de desempleo?\n",
    "\n",
    "* Considerando el periodo en donde hubo mayor tasa de contaigos de COVID-19 en el país, ¿Es posible visualizar consecuencias inmediatas en la economía del país?\n",
    "\n",
    "* ¿Tuvo el COVID-19 consecuencias directas en el valor de la Unidad de Fomento (UF)?\n",
    "\n",
    "* ¿Se puede crear un modelo que prediga los valores de la unidad de fomento (UF) y la tasa de desempleo en base al resto de indicadores economicos y el numero de casos de covid-19 en Chile?"
   ]
  },
  {
   "cell_type": "markdown",
   "id": "ae1d481b",
   "metadata": {},
   "source": [
    "## Datos utilizados.\n",
    "Para esta Tarea, se utilizarán los siguientes conjuntos de datos:\n",
    "\n",
    "### 1. Datos-COVID19 (https://github.com/MinCiencia/Datos-COVID19)\n",
    "\n",
    "El objetivo de la Mesa de Datos COVID-19 liderada por el Ministerio de Ciencia, Tecnología, Conocimiento e Innovación es disponer de información de nuestro país durante la pandemia para promover el uso de datos para investigación científica, clínica y para soluciones innovadoras que contribuyan a la toma de decisiones de las autoridades y la ciudadanía frente a esta pandemia. Se disponen los datos epidemiológicos provenientes del Ministerio de Salud (MINSAL) y datos de otras fuentes, documentados y abiertos para el análisis de la comunidad, en concordancia con la Ley Nº 19.628.\n",
    "\n",
    "Ver https://minciencia.gob.cl/covid19/ para más información, incluyendo actas de las reuniones de la mesa y también los informes publicados a la fecha.\n",
    "\n",
    "Actualmente el repositorio Datos-Covid19 contiene 94 productos de datos de acceso público. Para este proyecto nosotros usaremos los siguientes conjunto de datos: **Data Product 5** (`Datos-COVID19/output/producto5/TotalesNacionales.csv`).\n",
    "\n",
    "* Conjunto de datos que representan casos de COVID-19 a nivel nacional. Incluye casos nuevos confirmados, totales o acumulados, recuperados, etc.\n",
    "\n",
    "* Conjunto de datos que representa el avance de la campaña de vacunación a nivel regional.\n",
    "\n",
    "### 2. Reporte de indicadores económicos de Chile.\n",
    "\n",
    "La API **MindicadorChile** es un servicio open source (web service) que entrega los principales indicadores económicos para Chile en formato JSON. Tanto los indicadores diarios como históricos para que desarrolladores puedan utilizarlos en sus aplicaciones o sitios web, Toda la documentación de la API está disponible en la dirección https://mindicador.cl/.\n",
    "\n",
    "para este proyecto nos concentraremos en la mayoria de esto indicardores, concretamente los datos económicos que vamos a analizar son:\n",
    "\n",
    "* Tasa de desempleo\n",
    "* Índice Mensual de Actividad Económica (IMACEC)\n",
    "* Índice precio del consumidor (IPC)\n",
    "* Índice valor promedio (IVP)\n",
    "* Valor del dólar\n",
    "* Valor del euro\n",
    "* Tasa política monetaria (TPM)\n",
    "* Unidad de fomento (UF)\n",
    "* Unidad Tributaria Mensual (UTM)\n",
    "\n"
   ]
  },
  {
   "cell_type": "markdown",
   "id": "6bd2b70a",
   "metadata": {},
   "source": [
    "## Análisis exploratorio de datos:"
   ]
  },
  {
   "cell_type": "markdown",
   "id": "b5f40c2c",
   "metadata": {},
   "source": [
    "-  Librerias a Utilizar durante el proyecto"
   ]
  },
  {
   "cell_type": "code",
   "execution_count": 1,
   "id": "34c44a7b",
   "metadata": {},
   "outputs": [],
   "source": [
    "from matplotlib import pyplot as plt\n",
    "from bs4 import BeautifulSoup as bs\n",
    "from datetime import datetime\n",
    "from sklearn.preprocessing import StandardScaler\n",
    "from sklearn.preprocessing import Normalizer\n",
    "import seaborn as sns\n",
    "import pandas as pd\n",
    "import numpy as np\n",
    "import requests\n",
    "import json\n",
    "\n",
    "from sklearn.model_selection import train_test_split\n",
    "from sklearn.metrics import mean_squared_error\n",
    "from sklearn.linear_model import LinearRegression, Ridge, Lasso\n",
    "\n",
    "%matplotlib inline"
   ]
  },
  {
   "cell_type": "markdown",
   "id": "f45e005e",
   "metadata": {},
   "source": [
    "- Datos Economicos.\n",
    "Primero conseguimos los datos desde la API y generamos dataframes para los distintos indicadores economicos."
   ]
  },
  {
   "cell_type": "code",
   "execution_count": 2,
   "id": "9726bc7e",
   "metadata": {},
   "outputs": [],
   "source": [
    "class DataFrame:\n",
    "    def __init__(self, indicador, year):\n",
    "        self.indicador = indicador\n",
    "        self.year = year\n",
    "        self.df_esqueleto = self.processing(self.get())\n",
    "\n",
    "    def get(self):\n",
    "        url = f'https://mindicador.cl/api/{self.indicador}/{self.year}'\n",
    "        response = requests.get(url)\n",
    "        json_data = response.json()\n",
    "        df_json = pd.DataFrame(json_data)\n",
    "        return df_json\n",
    "\n",
    "    def processing(self, df_json):\n",
    "        esqueleto = []\n",
    "        for serie in df_json['serie']:\n",
    "            esqueleto.append(serie)\n",
    "        df_esqueleto = pd.DataFrame(esqueleto)\n",
    "        return df_esqueleto.sort_values(by='fecha')\n",
    "\n",
    "years = [2020, 2021]\n",
    "indicadores = ['dolar', 'tasa_desempleo', 'libra_cobre', 'ipc', 'imacec', 'ivp', 'euro', 'tpm', 'uf', 'utm']\n",
    "df_juntas = []\n",
    "\n",
    "#len => [488, 22, 488, 23, 22, 731, 488, 489, 731, 24]\n",
    "#dolar, libra_cobre, ivp, euro, tpm, uf\n",
    "\n",
    "for indicador in indicadores:\n",
    "    df_temporal = []\n",
    "    for year in years:\n",
    "        df_temporal.append(DataFrame(indicador, year).df_esqueleto)\n",
    "    df_juntas.append(pd.concat(df_temporal, ignore_index=True))"
   ]
  },
  {
   "cell_type": "markdown",
   "id": "df0e155c",
   "metadata": {},
   "source": [
    "Ahora que tenemos los dataframes necesarios, trabajamos aquellos que estan en formato de registro diario y los pasamos a un formato mensual, para que asi los podamos combinar todos en un mismo dataframe. "
   ]
  },
  {
   "cell_type": "code",
   "execution_count": 3,
   "id": "4dd951b7",
   "metadata": {},
   "outputs": [
    {
     "data": {
      "text/html": [
       "<div>\n",
       "<style scoped>\n",
       "    .dataframe tbody tr th:only-of-type {\n",
       "        vertical-align: middle;\n",
       "    }\n",
       "\n",
       "    .dataframe tbody tr th {\n",
       "        vertical-align: top;\n",
       "    }\n",
       "\n",
       "    .dataframe thead th {\n",
       "        text-align: right;\n",
       "    }\n",
       "</style>\n",
       "<table border=\"1\" class=\"dataframe\">\n",
       "  <thead>\n",
       "    <tr style=\"text-align: right;\">\n",
       "      <th></th>\n",
       "      <th>dolar</th>\n",
       "      <th>libra_cobre</th>\n",
       "      <th>ivp</th>\n",
       "      <th>euro</th>\n",
       "      <th>tpm</th>\n",
       "      <th>uf</th>\n",
       "      <th>tasa_desempleo</th>\n",
       "      <th>ipc</th>\n",
       "      <th>imacec</th>\n",
       "      <th>utm</th>\n",
       "    </tr>\n",
       "  </thead>\n",
       "  <tbody>\n",
       "    <tr>\n",
       "      <th>0</th>\n",
       "      <td>772.136364</td>\n",
       "      <td>2.000000</td>\n",
       "      <td>29464.225806</td>\n",
       "      <td>857.409091</td>\n",
       "      <td>1.000000</td>\n",
       "      <td>28324.032258</td>\n",
       "      <td>7.43</td>\n",
       "      <td>0.6</td>\n",
       "      <td>1.5</td>\n",
       "      <td>49673</td>\n",
       "    </tr>\n",
       "    <tr>\n",
       "      <th>1</th>\n",
       "      <td>755.850000</td>\n",
       "      <td>1.900000</td>\n",
       "      <td>28519.862069</td>\n",
       "      <td>824.100000</td>\n",
       "      <td>0.950000</td>\n",
       "      <td>27410.068966</td>\n",
       "      <td>7.81</td>\n",
       "      <td>0.4</td>\n",
       "      <td>2.7</td>\n",
       "      <td>49723</td>\n",
       "    </tr>\n",
       "    <tr>\n",
       "      <th>2</th>\n",
       "      <td>801.818182</td>\n",
       "      <td>1.909091</td>\n",
       "      <td>28673.032258</td>\n",
       "      <td>886.318182</td>\n",
       "      <td>0.954545</td>\n",
       "      <td>27620.870968</td>\n",
       "      <td>8.23</td>\n",
       "      <td>0.3</td>\n",
       "      <td>-3.5</td>\n",
       "      <td>50021</td>\n",
       "    </tr>\n",
       "    <tr>\n",
       "      <th>3</th>\n",
       "      <td>812.238095</td>\n",
       "      <td>1.904762</td>\n",
       "      <td>28741.800000</td>\n",
       "      <td>882.380952</td>\n",
       "      <td>0.500000</td>\n",
       "      <td>27694.366667</td>\n",
       "      <td>9.00</td>\n",
       "      <td>0.0</td>\n",
       "      <td>-14.1</td>\n",
       "      <td>50221</td>\n",
       "    </tr>\n",
       "    <tr>\n",
       "      <th>4</th>\n",
       "      <td>777.210526</td>\n",
       "      <td>1.894737</td>\n",
       "      <td>28874.290323</td>\n",
       "      <td>846.368421</td>\n",
       "      <td>0.500000</td>\n",
       "      <td>27787.096774</td>\n",
       "      <td>11.21</td>\n",
       "      <td>-0.1</td>\n",
       "      <td>-15.3</td>\n",
       "      <td>50372</td>\n",
       "    </tr>\n",
       "  </tbody>\n",
       "</table>\n",
       "</div>"
      ],
      "text/plain": [
       "        dolar  libra_cobre           ivp        euro       tpm            uf  \\\n",
       "0  772.136364     2.000000  29464.225806  857.409091  1.000000  28324.032258   \n",
       "1  755.850000     1.900000  28519.862069  824.100000  0.950000  27410.068966   \n",
       "2  801.818182     1.909091  28673.032258  886.318182  0.954545  27620.870968   \n",
       "3  812.238095     1.904762  28741.800000  882.380952  0.500000  27694.366667   \n",
       "4  777.210526     1.894737  28874.290323  846.368421  0.500000  27787.096774   \n",
       "\n",
       "   tasa_desempleo  ipc  imacec    utm  \n",
       "0            7.43  0.6     1.5  49673  \n",
       "1            7.81  0.4     2.7  49723  \n",
       "2            8.23  0.3    -3.5  50021  \n",
       "3            9.00  0.0   -14.1  50221  \n",
       "4           11.21 -0.1   -15.3  50372  "
      ]
     },
     "execution_count": 3,
     "metadata": {},
     "output_type": "execute_result"
    }
   ],
   "source": [
    "def procesar(dataframe):\n",
    "    mes = 1\n",
    "    suma_valores = 0\n",
    "    contador_meses = 0\n",
    "    lista_valores_promedios = []\n",
    "\n",
    "    for indice, fila in dataframe.iterrows():\n",
    "        fecha = fila['fecha']\n",
    "        fecha = fecha[:7]\n",
    "        fecha_transformada = datetime.strptime(fecha[:7], '%Y-%m')\n",
    "        mes_actual = fecha_transformada.month\n",
    "\n",
    "        if mes != mes_actual:\n",
    "            value = suma_valores / contador_meses\n",
    "            if value == 0:\n",
    "                value = 0.5\n",
    "            lista_valores_promedios.append(value)\n",
    "            suma_valores = 0\n",
    "            contador_meses = 0\n",
    "        else:\n",
    "            suma_valores += int(fila['valor'])\n",
    "        contador_meses += 1\n",
    "        mes = mes_actual\n",
    "\n",
    "    return lista_valores_promedios\n",
    "\n",
    "dataframes_diarias = []\n",
    "dataframes_mensuales = []\n",
    "for df in df_juntas:\n",
    "    if len(df) > 24:\n",
    "        dataframes_diarias.append(df)\n",
    "    else:\n",
    "        dataframes_mensuales.append(df)\n",
    "\n",
    "lista_promedios = []\n",
    "for dataframe in dataframes_diarias:\n",
    "    promedio = procesar(dataframe)\n",
    "    lista_promedios.append(promedio)\n",
    "\n",
    "lista_dataframes = []\n",
    "indices = ['dolar', 'libra_cobre', 'ivp', 'euro', 'tpm', 'uf']\n",
    "contador = 0\n",
    "for valor in lista_promedios:\n",
    "    df_nueva = pd.DataFrame(valor, columns=[indices[contador]])\n",
    "    lista_dataframes.append(df_nueva)\n",
    "    contador += 1\n",
    "\n",
    "lista_mensuales = []\n",
    "lista_indices = ['tasa_desempleo', 'ipc', 'imacec', 'utm']\n",
    "contador = 0\n",
    "for elemento in dataframes_mensuales:\n",
    "    sin_fecha = elemento.drop(columns=['fecha'])\n",
    "    renombrada = sin_fecha.rename({'valor':lista_indices[contador]}, axis=1)\n",
    "    lista_mensuales.append(renombrada)\n",
    "    contador += 1\n",
    "df_economia = pd.concat(lista_dataframes+lista_mensuales, axis=1)\n",
    "df_economia.head()"
   ]
  },
  {
   "cell_type": "code",
   "execution_count": 4,
   "id": "61235e8f",
   "metadata": {
    "scrolled": true
   },
   "outputs": [],
   "source": [
    "casos_totales = 'datos/datos_salud/producto5/TotalesNacionales.csv'\n",
    "df_casos_totales = pd.read_csv(casos_totales)\n",
    "df_casos_totales = df_casos_totales.transpose()\n",
    "df_casos_totales = df_casos_totales[[6]]\n",
    "df_casos_totales = df_casos_totales.iloc[1: , :]\n",
    "df_casos_totales = df_casos_totales.rename({6:'Casos Nuevos Diarios'}, axis=1)\n",
    "df_casos_totales['Casos Nuevos Diarios'].sum()\n",
    "\n",
    "casos_totales = 'datos/datos_salud/producto5/TotalesNacionales.csv'\n",
    "df_casos_totales = pd.read_csv(casos_totales)\n",
    "df_casos_totales = df_casos_totales.transpose()\n",
    "df_casos_totales = df_casos_totales[[0]]\n",
    "df_casos_totales = df_casos_totales.iloc[1: , :]\n",
    "df_casos_totales = df_casos_totales.rename({0:'Casos Nuevos Diarios'}, axis=1)"
   ]
  },
  {
   "cell_type": "markdown",
   "id": "9f96ba35",
   "metadata": {},
   "source": [
    "- Datos de Salud.\n",
    "Para conseguir estos datos, vamos a utilizar nuevamente la funcion de mas arriba llamada 'procesar' pero con unos cambios pequeños."
   ]
  },
  {
   "cell_type": "code",
   "execution_count": 5,
   "id": "1e79e78e",
   "metadata": {},
   "outputs": [
    {
     "data": {
      "text/html": [
       "<div>\n",
       "<style scoped>\n",
       "    .dataframe tbody tr th:only-of-type {\n",
       "        vertical-align: middle;\n",
       "    }\n",
       "\n",
       "    .dataframe tbody tr th {\n",
       "        vertical-align: top;\n",
       "    }\n",
       "\n",
       "    .dataframe thead th {\n",
       "        text-align: right;\n",
       "    }\n",
       "</style>\n",
       "<table border=\"1\" class=\"dataframe\">\n",
       "  <thead>\n",
       "    <tr style=\"text-align: right;\">\n",
       "      <th></th>\n",
       "      <th>Casos Nuevos Mensuales</th>\n",
       "    </tr>\n",
       "  </thead>\n",
       "  <tbody>\n",
       "    <tr>\n",
       "      <th>0</th>\n",
       "      <td>2738</td>\n",
       "    </tr>\n",
       "    <tr>\n",
       "      <th>1</th>\n",
       "      <td>12992</td>\n",
       "    </tr>\n",
       "    <tr>\n",
       "      <th>2</th>\n",
       "      <td>82680</td>\n",
       "    </tr>\n",
       "    <tr>\n",
       "      <th>3</th>\n",
       "      <td>142812</td>\n",
       "    </tr>\n",
       "    <tr>\n",
       "      <th>4</th>\n",
       "      <td>73494</td>\n",
       "    </tr>\n",
       "  </tbody>\n",
       "</table>\n",
       "</div>"
      ],
      "text/plain": [
       "   Casos Nuevos Mensuales\n",
       "0                    2738\n",
       "1                   12992\n",
       "2                   82680\n",
       "3                  142812\n",
       "4                   73494"
      ]
     },
     "execution_count": 5,
     "metadata": {},
     "output_type": "execute_result"
    }
   ],
   "source": [
    "casos_totales = 'datos/datos_salud/producto5/TotalesNacionales.csv'\n",
    "df_casos_totales = pd.read_csv(casos_totales)\n",
    "df_casos_totales = df_casos_totales.transpose()\n",
    "df_casos_totales = df_casos_totales[[6]]\n",
    "df_casos_totales = df_casos_totales.iloc[1: , :]\n",
    "df_casos_totales = df_casos_totales.rename({6:'Casos Nuevos Diarios'}, axis=1)\n",
    "df_casos_totales['Casos Nuevos Diarios'].sum()\n",
    "\n",
    "def procesar(dataframe):\n",
    "    mes = 3\n",
    "    suma_valores = 0\n",
    "    contador_meses = 0\n",
    "    lista_valores_promedios = []\n",
    "\n",
    "    for indice, fila in dataframe.iterrows():\n",
    "        # fecha = fila['fecha']\n",
    "        fecha = indice\n",
    "        fecha = fecha[:7]\n",
    "        fecha_transformada = datetime.strptime(fecha[:7], '%Y-%m')\n",
    "        mes_actual = fecha_transformada.month\n",
    "\n",
    "        if mes != mes_actual:\n",
    "            value = suma_valores\n",
    "            if value == 0:\n",
    "                value = 0.5\n",
    "            lista_valores_promedios.append(value)\n",
    "            suma_valores = 0\n",
    "            contador_meses = 0\n",
    "        else:\n",
    "            suma_valores += int(fila['Casos Nuevos Diarios'])\n",
    "        contador_meses += 1\n",
    "        mes = mes_actual\n",
    "\n",
    "    return lista_valores_promedios\n",
    "\n",
    "dataframe_salud = pd.DataFrame(procesar(df_casos_totales), columns=['Casos Nuevos Mensuales'])\n",
    "dataframe_salud.head()"
   ]
  },
  {
   "cell_type": "markdown",
   "id": "016dc4da",
   "metadata": {},
   "source": [
    "Ahora simplemente juntamos las dataframes de economia y salud en una unica dataframe.\n",
    "El cual contiene las columna contienen los datos de cada mes a partir de Enero de 2020 a Noviembre de 2021.\n"
   ]
  },
  {
   "cell_type": "code",
   "execution_count": 6,
   "id": "aef85e71",
   "metadata": {
    "scrolled": true
   },
   "outputs": [
    {
     "data": {
      "text/html": [
       "<div>\n",
       "<style scoped>\n",
       "    .dataframe tbody tr th:only-of-type {\n",
       "        vertical-align: middle;\n",
       "    }\n",
       "\n",
       "    .dataframe tbody tr th {\n",
       "        vertical-align: top;\n",
       "    }\n",
       "\n",
       "    .dataframe thead th {\n",
       "        text-align: right;\n",
       "    }\n",
       "</style>\n",
       "<table border=\"1\" class=\"dataframe\">\n",
       "  <thead>\n",
       "    <tr style=\"text-align: right;\">\n",
       "      <th></th>\n",
       "      <th>dolar</th>\n",
       "      <th>libra_cobre</th>\n",
       "      <th>ivp</th>\n",
       "      <th>euro</th>\n",
       "      <th>tpm</th>\n",
       "      <th>uf</th>\n",
       "      <th>tasa_desempleo</th>\n",
       "      <th>ipc</th>\n",
       "      <th>imacec</th>\n",
       "      <th>utm</th>\n",
       "      <th>Casos Nuevos Mensuales</th>\n",
       "    </tr>\n",
       "  </thead>\n",
       "  <tbody>\n",
       "    <tr>\n",
       "      <th>0</th>\n",
       "      <td>772.136364</td>\n",
       "      <td>2.000000</td>\n",
       "      <td>29464.225806</td>\n",
       "      <td>857.409091</td>\n",
       "      <td>1.000000</td>\n",
       "      <td>28324.032258</td>\n",
       "      <td>7.43</td>\n",
       "      <td>0.6</td>\n",
       "      <td>1.5</td>\n",
       "      <td>49673</td>\n",
       "      <td>2738.0</td>\n",
       "    </tr>\n",
       "    <tr>\n",
       "      <th>1</th>\n",
       "      <td>755.850000</td>\n",
       "      <td>1.900000</td>\n",
       "      <td>28519.862069</td>\n",
       "      <td>824.100000</td>\n",
       "      <td>0.950000</td>\n",
       "      <td>27410.068966</td>\n",
       "      <td>7.81</td>\n",
       "      <td>0.4</td>\n",
       "      <td>2.7</td>\n",
       "      <td>49723</td>\n",
       "      <td>12992.0</td>\n",
       "    </tr>\n",
       "    <tr>\n",
       "      <th>2</th>\n",
       "      <td>801.818182</td>\n",
       "      <td>1.909091</td>\n",
       "      <td>28673.032258</td>\n",
       "      <td>886.318182</td>\n",
       "      <td>0.954545</td>\n",
       "      <td>27620.870968</td>\n",
       "      <td>8.23</td>\n",
       "      <td>0.3</td>\n",
       "      <td>-3.5</td>\n",
       "      <td>50021</td>\n",
       "      <td>82680.0</td>\n",
       "    </tr>\n",
       "    <tr>\n",
       "      <th>3</th>\n",
       "      <td>812.238095</td>\n",
       "      <td>1.904762</td>\n",
       "      <td>28741.800000</td>\n",
       "      <td>882.380952</td>\n",
       "      <td>0.500000</td>\n",
       "      <td>27694.366667</td>\n",
       "      <td>9.00</td>\n",
       "      <td>0.0</td>\n",
       "      <td>-14.1</td>\n",
       "      <td>50221</td>\n",
       "      <td>142812.0</td>\n",
       "    </tr>\n",
       "    <tr>\n",
       "      <th>4</th>\n",
       "      <td>777.210526</td>\n",
       "      <td>1.894737</td>\n",
       "      <td>28874.290323</td>\n",
       "      <td>846.368421</td>\n",
       "      <td>0.500000</td>\n",
       "      <td>27787.096774</td>\n",
       "      <td>11.21</td>\n",
       "      <td>-0.1</td>\n",
       "      <td>-15.3</td>\n",
       "      <td>50372</td>\n",
       "      <td>73494.0</td>\n",
       "    </tr>\n",
       "    <tr>\n",
       "      <th>5</th>\n",
       "      <td>754.809524</td>\n",
       "      <td>1.904762</td>\n",
       "      <td>28913.266667</td>\n",
       "      <td>850.142857</td>\n",
       "      <td>0.500000</td>\n",
       "      <td>27751.433333</td>\n",
       "      <td>12.25</td>\n",
       "      <td>-0.1</td>\n",
       "      <td>-12.4</td>\n",
       "      <td>50372</td>\n",
       "      <td>54070.0</td>\n",
       "    </tr>\n",
       "    <tr>\n",
       "      <th>6</th>\n",
       "      <td>746.909091</td>\n",
       "      <td>1.909091</td>\n",
       "      <td>29008.709677</td>\n",
       "      <td>856.181818</td>\n",
       "      <td>0.500000</td>\n",
       "      <td>27755.193548</td>\n",
       "      <td>13.09</td>\n",
       "      <td>0.1</td>\n",
       "      <td>-10.7</td>\n",
       "      <td>50322</td>\n",
       "      <td>49756.0</td>\n",
       "    </tr>\n",
       "    <tr>\n",
       "      <th>7</th>\n",
       "      <td>748.095238</td>\n",
       "      <td>2.095238</td>\n",
       "      <td>29060.161290</td>\n",
       "      <td>884.523810</td>\n",
       "      <td>0.500000</td>\n",
       "      <td>27742.451613</td>\n",
       "      <td>12.93</td>\n",
       "      <td>0.1</td>\n",
       "      <td>-11.3</td>\n",
       "      <td>50272</td>\n",
       "      <td>45383.0</td>\n",
       "    </tr>\n",
       "    <tr>\n",
       "      <th>8</th>\n",
       "      <td>736.000000</td>\n",
       "      <td>2.666667</td>\n",
       "      <td>29056.633333</td>\n",
       "      <td>867.619048</td>\n",
       "      <td>0.500000</td>\n",
       "      <td>27737.533333</td>\n",
       "      <td>12.35</td>\n",
       "      <td>0.6</td>\n",
       "      <td>-5.3</td>\n",
       "      <td>50322</td>\n",
       "      <td>39880.0</td>\n",
       "    </tr>\n",
       "    <tr>\n",
       "      <th>9</th>\n",
       "      <td>750.333333</td>\n",
       "      <td>2.666667</td>\n",
       "      <td>29112.709677</td>\n",
       "      <td>883.476190</td>\n",
       "      <td>0.500000</td>\n",
       "      <td>27834.064516</td>\n",
       "      <td>11.58</td>\n",
       "      <td>0.7</td>\n",
       "      <td>-1.2</td>\n",
       "      <td>50372</td>\n",
       "      <td>56092.0</td>\n",
       "    </tr>\n",
       "    <tr>\n",
       "      <th>10</th>\n",
       "      <td>725.666667</td>\n",
       "      <td>2.857143</td>\n",
       "      <td>29123.166667</td>\n",
       "      <td>858.333333</td>\n",
       "      <td>0.500000</td>\n",
       "      <td>27971.933333</td>\n",
       "      <td>10.76</td>\n",
       "      <td>-0.1</td>\n",
       "      <td>0.3</td>\n",
       "      <td>50674</td>\n",
       "      <td>114507.0</td>\n",
       "    </tr>\n",
       "    <tr>\n",
       "      <th>11</th>\n",
       "      <td>695.950000</td>\n",
       "      <td>2.850000</td>\n",
       "      <td>29222.451613</td>\n",
       "      <td>846.400000</td>\n",
       "      <td>0.500000</td>\n",
       "      <td>28138.354839</td>\n",
       "      <td>10.29</td>\n",
       "      <td>0.3</td>\n",
       "      <td>-0.4</td>\n",
       "      <td>51029</td>\n",
       "      <td>94690.0</td>\n",
       "    </tr>\n",
       "    <tr>\n",
       "      <th>12</th>\n",
       "      <td>687.550000</td>\n",
       "      <td>2.850000</td>\n",
       "      <td>29294.483871</td>\n",
       "      <td>836.650000</td>\n",
       "      <td>0.500000</td>\n",
       "      <td>28147.645161</td>\n",
       "      <td>10.23</td>\n",
       "      <td>0.7</td>\n",
       "      <td>-3.1</td>\n",
       "      <td>50978</td>\n",
       "      <td>166501.0</td>\n",
       "    </tr>\n",
       "    <tr>\n",
       "      <th>13</th>\n",
       "      <td>685.450000</td>\n",
       "      <td>3.050000</td>\n",
       "      <td>29277.964286</td>\n",
       "      <td>829.200000</td>\n",
       "      <td>0.500000</td>\n",
       "      <td>28154.142857</td>\n",
       "      <td>10.30</td>\n",
       "      <td>0.2</td>\n",
       "      <td>-2.2</td>\n",
       "      <td>51131</td>\n",
       "      <td>193650.0</td>\n",
       "    </tr>\n",
       "    <tr>\n",
       "      <th>14</th>\n",
       "      <td>694.608696</td>\n",
       "      <td>3.739130</td>\n",
       "      <td>29494.225806</td>\n",
       "      <td>827.130435</td>\n",
       "      <td>0.500000</td>\n",
       "      <td>28414.580645</td>\n",
       "      <td>10.35</td>\n",
       "      <td>0.4</td>\n",
       "      <td>6.4</td>\n",
       "      <td>51489</td>\n",
       "      <td>179795.0</td>\n",
       "    </tr>\n",
       "    <tr>\n",
       "      <th>15</th>\n",
       "      <td>673.095238</td>\n",
       "      <td>3.666667</td>\n",
       "      <td>29577.400000</td>\n",
       "      <td>806.000000</td>\n",
       "      <td>0.500000</td>\n",
       "      <td>28459.366667</td>\n",
       "      <td>10.24</td>\n",
       "      <td>0.4</td>\n",
       "      <td>14.1</td>\n",
       "      <td>51592</td>\n",
       "      <td>167209.0</td>\n",
       "    </tr>\n",
       "    <tr>\n",
       "      <th>16</th>\n",
       "      <td>676.300000</td>\n",
       "      <td>3.800000</td>\n",
       "      <td>29713.193548</td>\n",
       "      <td>821.400000</td>\n",
       "      <td>0.500000</td>\n",
       "      <td>28603.903226</td>\n",
       "      <td>10.04</td>\n",
       "      <td>0.3</td>\n",
       "      <td>18.1</td>\n",
       "      <td>51798</td>\n",
       "      <td>57345.0</td>\n",
       "    </tr>\n",
       "    <tr>\n",
       "      <th>17</th>\n",
       "      <td>690.050000</td>\n",
       "      <td>3.800000</td>\n",
       "      <td>29777.933333</td>\n",
       "      <td>832.600000</td>\n",
       "      <td>0.500000</td>\n",
       "      <td>28678.133333</td>\n",
       "      <td>9.50</td>\n",
       "      <td>0.1</td>\n",
       "      <td>20.1</td>\n",
       "      <td>52005</td>\n",
       "      <td>21730.0</td>\n",
       "    </tr>\n",
       "    <tr>\n",
       "      <th>18</th>\n",
       "      <td>715.333333</td>\n",
       "      <td>3.809524</td>\n",
       "      <td>29919.225806</td>\n",
       "      <td>845.761905</td>\n",
       "      <td>0.500000</td>\n",
       "      <td>28781.935484</td>\n",
       "      <td>8.93</td>\n",
       "      <td>0.8</td>\n",
       "      <td>18.1</td>\n",
       "      <td>52161</td>\n",
       "      <td>15379.0</td>\n",
       "    </tr>\n",
       "    <tr>\n",
       "      <th>19</th>\n",
       "      <td>744.863636</td>\n",
       "      <td>3.818182</td>\n",
       "      <td>30022.935484</td>\n",
       "      <td>876.500000</td>\n",
       "      <td>0.500000</td>\n",
       "      <td>28867.290323</td>\n",
       "      <td>8.55</td>\n",
       "      <td>0.4</td>\n",
       "      <td>19.1</td>\n",
       "      <td>52213</td>\n",
       "      <td>0.0</td>\n",
       "    </tr>\n",
       "    <tr>\n",
       "      <th>20</th>\n",
       "      <td>746.285714</td>\n",
       "      <td>3.809524</td>\n",
       "      <td>30096.933333</td>\n",
       "      <td>879.142857</td>\n",
       "      <td>0.952381</td>\n",
       "      <td>29027.433333</td>\n",
       "      <td>8.41</td>\n",
       "      <td>1.2</td>\n",
       "      <td>15.6</td>\n",
       "      <td>52631</td>\n",
       "      <td>0.0</td>\n",
       "    </tr>\n",
       "    <tr>\n",
       "      <th>21</th>\n",
       "      <td>772.900000</td>\n",
       "      <td>3.850000</td>\n",
       "      <td>30254.645161</td>\n",
       "      <td>896.800000</td>\n",
       "      <td>1.550000</td>\n",
       "      <td>29243.483871</td>\n",
       "      <td>8.08</td>\n",
       "      <td>1.3</td>\n",
       "      <td>15.0</td>\n",
       "      <td>52842</td>\n",
       "      <td>0.0</td>\n",
       "    </tr>\n",
       "    <tr>\n",
       "      <th>22</th>\n",
       "      <td>773.428571</td>\n",
       "      <td>3.809524</td>\n",
       "      <td>30386.600000</td>\n",
       "      <td>882.095238</td>\n",
       "      <td>1.904762</td>\n",
       "      <td>29559.700000</td>\n",
       "      <td>0.00</td>\n",
       "      <td>0.5</td>\n",
       "      <td>0.0</td>\n",
       "      <td>53476</td>\n",
       "      <td>0.0</td>\n",
       "    </tr>\n",
       "  </tbody>\n",
       "</table>\n",
       "</div>"
      ],
      "text/plain": [
       "         dolar  libra_cobre           ivp        euro       tpm            uf  \\\n",
       "0   772.136364     2.000000  29464.225806  857.409091  1.000000  28324.032258   \n",
       "1   755.850000     1.900000  28519.862069  824.100000  0.950000  27410.068966   \n",
       "2   801.818182     1.909091  28673.032258  886.318182  0.954545  27620.870968   \n",
       "3   812.238095     1.904762  28741.800000  882.380952  0.500000  27694.366667   \n",
       "4   777.210526     1.894737  28874.290323  846.368421  0.500000  27787.096774   \n",
       "5   754.809524     1.904762  28913.266667  850.142857  0.500000  27751.433333   \n",
       "6   746.909091     1.909091  29008.709677  856.181818  0.500000  27755.193548   \n",
       "7   748.095238     2.095238  29060.161290  884.523810  0.500000  27742.451613   \n",
       "8   736.000000     2.666667  29056.633333  867.619048  0.500000  27737.533333   \n",
       "9   750.333333     2.666667  29112.709677  883.476190  0.500000  27834.064516   \n",
       "10  725.666667     2.857143  29123.166667  858.333333  0.500000  27971.933333   \n",
       "11  695.950000     2.850000  29222.451613  846.400000  0.500000  28138.354839   \n",
       "12  687.550000     2.850000  29294.483871  836.650000  0.500000  28147.645161   \n",
       "13  685.450000     3.050000  29277.964286  829.200000  0.500000  28154.142857   \n",
       "14  694.608696     3.739130  29494.225806  827.130435  0.500000  28414.580645   \n",
       "15  673.095238     3.666667  29577.400000  806.000000  0.500000  28459.366667   \n",
       "16  676.300000     3.800000  29713.193548  821.400000  0.500000  28603.903226   \n",
       "17  690.050000     3.800000  29777.933333  832.600000  0.500000  28678.133333   \n",
       "18  715.333333     3.809524  29919.225806  845.761905  0.500000  28781.935484   \n",
       "19  744.863636     3.818182  30022.935484  876.500000  0.500000  28867.290323   \n",
       "20  746.285714     3.809524  30096.933333  879.142857  0.952381  29027.433333   \n",
       "21  772.900000     3.850000  30254.645161  896.800000  1.550000  29243.483871   \n",
       "22  773.428571     3.809524  30386.600000  882.095238  1.904762  29559.700000   \n",
       "\n",
       "    tasa_desempleo  ipc  imacec    utm  Casos Nuevos Mensuales  \n",
       "0             7.43  0.6     1.5  49673                  2738.0  \n",
       "1             7.81  0.4     2.7  49723                 12992.0  \n",
       "2             8.23  0.3    -3.5  50021                 82680.0  \n",
       "3             9.00  0.0   -14.1  50221                142812.0  \n",
       "4            11.21 -0.1   -15.3  50372                 73494.0  \n",
       "5            12.25 -0.1   -12.4  50372                 54070.0  \n",
       "6            13.09  0.1   -10.7  50322                 49756.0  \n",
       "7            12.93  0.1   -11.3  50272                 45383.0  \n",
       "8            12.35  0.6    -5.3  50322                 39880.0  \n",
       "9            11.58  0.7    -1.2  50372                 56092.0  \n",
       "10           10.76 -0.1     0.3  50674                114507.0  \n",
       "11           10.29  0.3    -0.4  51029                 94690.0  \n",
       "12           10.23  0.7    -3.1  50978                166501.0  \n",
       "13           10.30  0.2    -2.2  51131                193650.0  \n",
       "14           10.35  0.4     6.4  51489                179795.0  \n",
       "15           10.24  0.4    14.1  51592                167209.0  \n",
       "16           10.04  0.3    18.1  51798                 57345.0  \n",
       "17            9.50  0.1    20.1  52005                 21730.0  \n",
       "18            8.93  0.8    18.1  52161                 15379.0  \n",
       "19            8.55  0.4    19.1  52213                     0.0  \n",
       "20            8.41  1.2    15.6  52631                     0.0  \n",
       "21            8.08  1.3    15.0  52842                     0.0  \n",
       "22            0.00  0.5     0.0  53476                     0.0  "
      ]
     },
     "execution_count": 6,
     "metadata": {},
     "output_type": "execute_result"
    }
   ],
   "source": [
    "df_final = pd.concat([df_economia, dataframe_salud], axis=1)\n",
    "df_final = df_final[:-1]\n",
    "df_final = df_final.fillna(0)\n",
    "df_final"
   ]
  },
  {
   "cell_type": "code",
   "execution_count": 7,
   "id": "f89daa47",
   "metadata": {},
   "outputs": [
    {
     "data": {
      "image/png": "[encoded data removed]",
      "text/plain": [
       "<Figure size 1008x432 with 1 Axes>"
      ]
     },
     "metadata": {
      "needs_background": "light"
     },
     "output_type": "display_data"
    },
    {
     "data": {
      "image/png": "[encoded data removed]",
      "text/plain": [
       "<Figure size 1008x432 with 1 Axes>"
      ]
     },
     "metadata": {
      "needs_background": "light"
     },
     "output_type": "display_data"
    },
    {
     "data": {
      "image/png": "[encoded data removed]",
      "text/plain": [
       "<Figure size 1008x432 with 1 Axes>"
      ]
     },
     "metadata": {
      "needs_background": "light"
     },
     "output_type": "display_data"
    },
    {
     "data": {
      "image/png": "[encoded data removed]",
      "text/plain": [
       "<Figure size 1008x432 with 1 Axes>"
      ]
     },
     "metadata": {
      "needs_background": "light"
     },
     "output_type": "display_data"
    },
    {
     "data": {
      "image/png": "[encoded data removed]",
      "text/plain": [
       "<Figure size 1008x432 with 1 Axes>"
      ]
     },
     "metadata": {
      "needs_background": "light"
     },
     "output_type": "display_data"
    },
    {
     "data": {
      "image/png": "[encoded data removed]",
      "text/plain": [
       "<Figure size 1008x432 with 1 Axes>"
      ]
     },
     "metadata": {
      "needs_background": "light"
     },
     "output_type": "display_data"
    },
    {
     "data": {
      "image/png": "[encoded data removed]",
      "text/plain": [
       "<Figure size 1008x432 with 1 Axes>"
      ]
     },
     "metadata": {
      "needs_background": "light"
     },
     "output_type": "display_data"
    },
    {
     "data": {
      "image/png": "[encoded data removed]",
      "text/plain": [
       "<Figure size 1008x432 with 1 Axes>"
      ]
     },
     "metadata": {
      "needs_background": "light"
     },
     "output_type": "display_data"
    },
    {
     "data": {
      "image/png": "[encoded data removed]",
      "text/plain": [
       "<Figure size 1008x432 with 1 Axes>"
      ]
     },
     "metadata": {
      "needs_background": "light"
     },
     "output_type": "display_data"
    },
    {
     "data": {
      "image/png": "[encoded data removed]",
      "text/plain": [
       "<Figure size 1008x432 with 1 Axes>"
      ]
     },
     "metadata": {
      "needs_background": "light"
     },
     "output_type": "display_data"
    },
    {
     "data": {
      "image/png": "[encoded data removed]",
      "text/plain": [
       "<Figure size 1008x432 with 1 Axes>"
      ]
     },
     "metadata": {
      "needs_background": "light"
     },
     "output_type": "display_data"
    }
   ],
   "source": [
    "meses = tuple(range(1, 24))\n",
    "for col in df_final.columns:\n",
    "    fig = plt.figure(figsize=(14, 6))\n",
    "\n",
    "    #Genora los puntos que conforman el grafico\n",
    "    plt.plot(meses, df_final[col], linewidth=3, c='blue', )\n",
    "\n",
    "    #nombre de los ejes\n",
    "    plt.ylabel(f\"{col}\")\n",
    "    plt.xlabel(\"Meses\")\n",
    "\n",
    "    plt.show()"
   ]
  },
  {
   "cell_type": "markdown",
   "id": "74de4b3e",
   "metadata": {},
   "source": [
    "### ¿Cúales indicadores económicos son los que mantienen una mayor relación con la Unidad de Fomento (UF) y la tasa de desempleo, y cuales mantienen una menor relación?"
   ]
  },
  {
   "cell_type": "code",
   "execution_count": 8,
   "id": "636b36e4",
   "metadata": {},
   "outputs": [],
   "source": [
    "# Consideramos el tan solo los indicadores economicos\n",
    "df_eco = df_final.drop('Casos Nuevos Mensuales', axis=1) "
   ]
  },
  {
   "cell_type": "code",
   "execution_count": 9,
   "id": "e9943def",
   "metadata": {},
   "outputs": [
    {
     "data": {
      "text/html": [
       "<div>\n",
       "<style scoped>\n",
       "    .dataframe tbody tr th:only-of-type {\n",
       "        vertical-align: middle;\n",
       "    }\n",
       "\n",
       "    .dataframe tbody tr th {\n",
       "        vertical-align: top;\n",
       "    }\n",
       "\n",
       "    .dataframe thead th {\n",
       "        text-align: right;\n",
       "    }\n",
       "</style>\n",
       "<table border=\"1\" class=\"dataframe\">\n",
       "  <thead>\n",
       "    <tr style=\"text-align: right;\">\n",
       "      <th></th>\n",
       "      <th>dolar</th>\n",
       "      <th>libra_cobre</th>\n",
       "      <th>ivp</th>\n",
       "      <th>euro</th>\n",
       "      <th>tpm</th>\n",
       "      <th>uf</th>\n",
       "      <th>tasa_desempleo</th>\n",
       "      <th>ipc</th>\n",
       "      <th>imacec</th>\n",
       "      <th>utm</th>\n",
       "    </tr>\n",
       "  </thead>\n",
       "  <tbody>\n",
       "    <tr>\n",
       "      <th>dolar</th>\n",
       "      <td>1.000000</td>\n",
       "      <td>-0.539147</td>\n",
       "      <td>-0.250661</td>\n",
       "      <td>0.752810</td>\n",
       "      <td>0.452332</td>\n",
       "      <td>-0.194611</td>\n",
       "      <td>-0.275118</td>\n",
       "      <td>-0.003010</td>\n",
       "      <td>-0.463391</td>\n",
       "      <td>-0.268206</td>\n",
       "    </tr>\n",
       "    <tr>\n",
       "      <th>libra_cobre</th>\n",
       "      <td>-0.539147</td>\n",
       "      <td>1.000000</td>\n",
       "      <td>0.880774</td>\n",
       "      <td>-0.146728</td>\n",
       "      <td>0.200867</td>\n",
       "      <td>0.863752</td>\n",
       "      <td>-0.359755</td>\n",
       "      <td>0.501113</td>\n",
       "      <td>0.848728</td>\n",
       "      <td>0.905503</td>\n",
       "    </tr>\n",
       "    <tr>\n",
       "      <th>ivp</th>\n",
       "      <td>-0.250661</td>\n",
       "      <td>0.880774</td>\n",
       "      <td>1.000000</td>\n",
       "      <td>0.117129</td>\n",
       "      <td>0.467082</td>\n",
       "      <td>0.986595</td>\n",
       "      <td>-0.531611</td>\n",
       "      <td>0.590954</td>\n",
       "      <td>0.736776</td>\n",
       "      <td>0.928580</td>\n",
       "    </tr>\n",
       "    <tr>\n",
       "      <th>euro</th>\n",
       "      <td>0.752810</td>\n",
       "      <td>-0.146728</td>\n",
       "      <td>0.117129</td>\n",
       "      <td>1.000000</td>\n",
       "      <td>0.438480</td>\n",
       "      <td>0.112175</td>\n",
       "      <td>-0.207636</td>\n",
       "      <td>0.284918</td>\n",
       "      <td>-0.221171</td>\n",
       "      <td>0.076597</td>\n",
       "    </tr>\n",
       "    <tr>\n",
       "      <th>tpm</th>\n",
       "      <td>0.452332</td>\n",
       "      <td>0.200867</td>\n",
       "      <td>0.467082</td>\n",
       "      <td>0.438480</td>\n",
       "      <td>1.000000</td>\n",
       "      <td>0.548098</td>\n",
       "      <td>-0.827387</td>\n",
       "      <td>0.485769</td>\n",
       "      <td>0.141663</td>\n",
       "      <td>0.451163</td>\n",
       "    </tr>\n",
       "    <tr>\n",
       "      <th>uf</th>\n",
       "      <td>-0.194611</td>\n",
       "      <td>0.863752</td>\n",
       "      <td>0.986595</td>\n",
       "      <td>0.112175</td>\n",
       "      <td>0.548098</td>\n",
       "      <td>1.000000</td>\n",
       "      <td>-0.634103</td>\n",
       "      <td>0.563429</td>\n",
       "      <td>0.710701</td>\n",
       "      <td>0.944571</td>\n",
       "    </tr>\n",
       "    <tr>\n",
       "      <th>tasa_desempleo</th>\n",
       "      <td>-0.275118</td>\n",
       "      <td>-0.359755</td>\n",
       "      <td>-0.531611</td>\n",
       "      <td>-0.207636</td>\n",
       "      <td>-0.827387</td>\n",
       "      <td>-0.634103</td>\n",
       "      <td>1.000000</td>\n",
       "      <td>-0.328213</td>\n",
       "      <td>-0.301591</td>\n",
       "      <td>-0.541221</td>\n",
       "    </tr>\n",
       "    <tr>\n",
       "      <th>ipc</th>\n",
       "      <td>-0.003010</td>\n",
       "      <td>0.501113</td>\n",
       "      <td>0.590954</td>\n",
       "      <td>0.284918</td>\n",
       "      <td>0.485769</td>\n",
       "      <td>0.563429</td>\n",
       "      <td>-0.328213</td>\n",
       "      <td>1.000000</td>\n",
       "      <td>0.527179</td>\n",
       "      <td>0.489930</td>\n",
       "    </tr>\n",
       "    <tr>\n",
       "      <th>imacec</th>\n",
       "      <td>-0.463391</td>\n",
       "      <td>0.848728</td>\n",
       "      <td>0.736776</td>\n",
       "      <td>-0.221171</td>\n",
       "      <td>0.141663</td>\n",
       "      <td>0.710701</td>\n",
       "      <td>-0.301591</td>\n",
       "      <td>0.527179</td>\n",
       "      <td>1.000000</td>\n",
       "      <td>0.684054</td>\n",
       "    </tr>\n",
       "    <tr>\n",
       "      <th>utm</th>\n",
       "      <td>-0.268206</td>\n",
       "      <td>0.905503</td>\n",
       "      <td>0.928580</td>\n",
       "      <td>0.076597</td>\n",
       "      <td>0.451163</td>\n",
       "      <td>0.944571</td>\n",
       "      <td>-0.541221</td>\n",
       "      <td>0.489930</td>\n",
       "      <td>0.684054</td>\n",
       "      <td>1.000000</td>\n",
       "    </tr>\n",
       "  </tbody>\n",
       "</table>\n",
       "</div>"
      ],
      "text/plain": [
       "                   dolar  libra_cobre       ivp      euro       tpm        uf  \\\n",
       "dolar           1.000000    -0.539147 -0.250661  0.752810  0.452332 -0.194611   \n",
       "libra_cobre    -0.539147     1.000000  0.880774 -0.146728  0.200867  0.863752   \n",
       "ivp            -0.250661     0.880774  1.000000  0.117129  0.467082  0.986595   \n",
       "euro            0.752810    -0.146728  0.117129  1.000000  0.438480  0.112175   \n",
       "tpm             0.452332     0.200867  0.467082  0.438480  1.000000  0.548098   \n",
       "uf             -0.194611     0.863752  0.986595  0.112175  0.548098  1.000000   \n",
       "tasa_desempleo -0.275118    -0.359755 -0.531611 -0.207636 -0.827387 -0.634103   \n",
       "ipc            -0.003010     0.501113  0.590954  0.284918  0.485769  0.563429   \n",
       "imacec         -0.463391     0.848728  0.736776 -0.221171  0.141663  0.710701   \n",
       "utm            -0.268206     0.905503  0.928580  0.076597  0.451163  0.944571   \n",
       "\n",
       "                tasa_desempleo       ipc    imacec       utm  \n",
       "dolar                -0.275118 -0.003010 -0.463391 -0.268206  \n",
       "libra_cobre          -0.359755  0.501113  0.848728  0.905503  \n",
       "ivp                  -0.531611  0.590954  0.736776  0.928580  \n",
       "euro                 -0.207636  0.284918 -0.221171  0.076597  \n",
       "tpm                  -0.827387  0.485769  0.141663  0.451163  \n",
       "uf                   -0.634103  0.563429  0.710701  0.944571  \n",
       "tasa_desempleo        1.000000 -0.328213 -0.301591 -0.541221  \n",
       "ipc                  -0.328213  1.000000  0.527179  0.489930  \n",
       "imacec               -0.301591  0.527179  1.000000  0.684054  \n",
       "utm                  -0.541221  0.489930  0.684054  1.000000  "
      ]
     },
     "execution_count": 9,
     "metadata": {},
     "output_type": "execute_result"
    }
   ],
   "source": [
    "#Correlacion\n",
    "df_eco.corr()"
   ]
  },
  {
   "cell_type": "code",
   "execution_count": 10,
   "id": "e3ea3b3b",
   "metadata": {},
   "outputs": [
    {
     "data": {
      "text/plain": [
       "<AxesSubplot:>"
      ]
     },
     "execution_count": 10,
     "metadata": {},
     "output_type": "execute_result"
    },
    {
     "data": {
      "image/png": "[encoded data removed]",
      "text/plain": [
       "<Figure size 432x288 with 2 Axes>"
      ]
     },
     "metadata": {
      "needs_background": "light"
     },
     "output_type": "display_data"
    }
   ],
   "source": [
    "sns.heatmap(df_eco.corr(), cmap='coolwarm')"
   ]
  },
  {
   "cell_type": "markdown",
   "id": "1d5eb484",
   "metadata": {},
   "source": [
    "Despues de ver sus resultados de correlación podemos observar que los indicadores de la libra de cobre, ivp, iamcec, tasa de desempleo y utm mantienen una correlación alta con la uf, mientras que el tpm y la uf son lo que más se relacionan con la tasa de desempleo."
   ]
  },
  {
   "cell_type": "markdown",
   "id": "0df01777",
   "metadata": {},
   "source": [
    "### ¿Tuvo el COVID-19 una relación directa en el aumento de la tasa de desempleo? "
   ]
  },
  {
   "cell_type": "code",
   "execution_count": 11,
   "id": "36fa62d3",
   "metadata": {},
   "outputs": [
    {
     "data": {
      "text/html": [
       "<div>\n",
       "<style scoped>\n",
       "    .dataframe tbody tr th:only-of-type {\n",
       "        vertical-align: middle;\n",
       "    }\n",
       "\n",
       "    .dataframe tbody tr th {\n",
       "        vertical-align: top;\n",
       "    }\n",
       "\n",
       "    .dataframe thead th {\n",
       "        text-align: right;\n",
       "    }\n",
       "</style>\n",
       "<table border=\"1\" class=\"dataframe\">\n",
       "  <thead>\n",
       "    <tr style=\"text-align: right;\">\n",
       "      <th></th>\n",
       "      <th>tasa_desempleo</th>\n",
       "      <th>Casos Nuevos Mensuales</th>\n",
       "    </tr>\n",
       "  </thead>\n",
       "  <tbody>\n",
       "    <tr>\n",
       "      <th>tasa_desempleo</th>\n",
       "      <td>1.0000</td>\n",
       "      <td>0.3271</td>\n",
       "    </tr>\n",
       "    <tr>\n",
       "      <th>Casos Nuevos Mensuales</th>\n",
       "      <td>0.3271</td>\n",
       "      <td>1.0000</td>\n",
       "    </tr>\n",
       "  </tbody>\n",
       "</table>\n",
       "</div>"
      ],
      "text/plain": [
       "                        tasa_desempleo  Casos Nuevos Mensuales\n",
       "tasa_desempleo                  1.0000                  0.3271\n",
       "Casos Nuevos Mensuales          0.3271                  1.0000"
      ]
     },
     "execution_count": 11,
     "metadata": {},
     "output_type": "execute_result"
    }
   ],
   "source": [
    "df_final[[\"tasa_desempleo\", \"Casos Nuevos Mensuales\"]].corr()"
   ]
  },
  {
   "cell_type": "code",
   "execution_count": 12,
   "id": "f24351fa",
   "metadata": {},
   "outputs": [
    {
     "data": {
      "image/png": "[encoded data removed]",
      "text/plain": [
       "<Figure size 360x360 with 1 Axes>"
      ]
     },
     "metadata": {
      "needs_background": "light"
     },
     "output_type": "display_data"
    }
   ],
   "source": [
    "#graficamos para ver si logramos observar alguna relación entre los casos de covid y el resto de varibles\n",
    "\n",
    "sns.lmplot(data=df_final, x='Casos Nuevos Mensuales', y=\"tasa_desempleo\");"
   ]
  },
  {
   "cell_type": "markdown",
   "id": "1d7c65b5",
   "metadata": {},
   "source": [
    "A pesar de que el gráfico da a pensar que puede haber una relación directa, al ver la correlación que mantiene la tasa de desempleo y el número de casos nuevos por mes notamos que es un valor muy bajo (cercano a 0.3) por lo que no se puede afirmar que la pandemia fue el principal factor de la alza em la tasa de desempleo."
   ]
  },
  {
   "cell_type": "markdown",
   "id": "c116585a",
   "metadata": {},
   "source": [
    "### Considerando el periodo en donde hubo mayor tasa de contaigos de COVID-19 en el país, ¿Es posible visualizar consecuencias inmediatas en la economía del país?"
   ]
  },
  {
   "cell_type": "code",
   "execution_count": 33,
   "id": "2eda3069",
   "metadata": {},
   "outputs": [
    {
     "data": {
      "text/html": [
       "<div>\n",
       "<style scoped>\n",
       "    .dataframe tbody tr th:only-of-type {\n",
       "        vertical-align: middle;\n",
       "    }\n",
       "\n",
       "    .dataframe tbody tr th {\n",
       "        vertical-align: top;\n",
       "    }\n",
       "\n",
       "    .dataframe thead th {\n",
       "        text-align: right;\n",
       "    }\n",
       "</style>\n",
       "<table border=\"1\" class=\"dataframe\">\n",
       "  <thead>\n",
       "    <tr style=\"text-align: right;\">\n",
       "      <th></th>\n",
       "      <th>dolar</th>\n",
       "      <th>libra_cobre</th>\n",
       "      <th>ivp</th>\n",
       "      <th>euro</th>\n",
       "      <th>tpm</th>\n",
       "      <th>uf</th>\n",
       "      <th>tasa_desempleo</th>\n",
       "      <th>ipc</th>\n",
       "      <th>imacec</th>\n",
       "      <th>utm</th>\n",
       "      <th>Casos Nuevos Mensuales</th>\n",
       "    </tr>\n",
       "  </thead>\n",
       "  <tbody>\n",
       "    <tr>\n",
       "      <th>0</th>\n",
       "      <td>772.136364</td>\n",
       "      <td>2.000000</td>\n",
       "      <td>29464.225806</td>\n",
       "      <td>857.409091</td>\n",
       "      <td>1.000000</td>\n",
       "      <td>28324.032258</td>\n",
       "      <td>7.43</td>\n",
       "      <td>0.6</td>\n",
       "      <td>1.5</td>\n",
       "      <td>49673</td>\n",
       "      <td>2738.0</td>\n",
       "    </tr>\n",
       "    <tr>\n",
       "      <th>1</th>\n",
       "      <td>755.850000</td>\n",
       "      <td>1.900000</td>\n",
       "      <td>28519.862069</td>\n",
       "      <td>824.100000</td>\n",
       "      <td>0.950000</td>\n",
       "      <td>27410.068966</td>\n",
       "      <td>7.81</td>\n",
       "      <td>0.4</td>\n",
       "      <td>2.7</td>\n",
       "      <td>49723</td>\n",
       "      <td>12992.0</td>\n",
       "    </tr>\n",
       "    <tr>\n",
       "      <th>2</th>\n",
       "      <td>801.818182</td>\n",
       "      <td>1.909091</td>\n",
       "      <td>28673.032258</td>\n",
       "      <td>886.318182</td>\n",
       "      <td>0.954545</td>\n",
       "      <td>27620.870968</td>\n",
       "      <td>8.23</td>\n",
       "      <td>0.3</td>\n",
       "      <td>-3.5</td>\n",
       "      <td>50021</td>\n",
       "      <td>82680.0</td>\n",
       "    </tr>\n",
       "    <tr>\n",
       "      <th>3</th>\n",
       "      <td>812.238095</td>\n",
       "      <td>1.904762</td>\n",
       "      <td>28741.800000</td>\n",
       "      <td>882.380952</td>\n",
       "      <td>0.500000</td>\n",
       "      <td>27694.366667</td>\n",
       "      <td>9.00</td>\n",
       "      <td>0.0</td>\n",
       "      <td>-14.1</td>\n",
       "      <td>50221</td>\n",
       "      <td>142812.0</td>\n",
       "    </tr>\n",
       "    <tr>\n",
       "      <th>4</th>\n",
       "      <td>777.210526</td>\n",
       "      <td>1.894737</td>\n",
       "      <td>28874.290323</td>\n",
       "      <td>846.368421</td>\n",
       "      <td>0.500000</td>\n",
       "      <td>27787.096774</td>\n",
       "      <td>11.21</td>\n",
       "      <td>-0.1</td>\n",
       "      <td>-15.3</td>\n",
       "      <td>50372</td>\n",
       "      <td>73494.0</td>\n",
       "    </tr>\n",
       "  </tbody>\n",
       "</table>\n",
       "</div>"
      ],
      "text/plain": [
       "        dolar  libra_cobre           ivp        euro       tpm            uf  \\\n",
       "0  772.136364     2.000000  29464.225806  857.409091  1.000000  28324.032258   \n",
       "1  755.850000     1.900000  28519.862069  824.100000  0.950000  27410.068966   \n",
       "2  801.818182     1.909091  28673.032258  886.318182  0.954545  27620.870968   \n",
       "3  812.238095     1.904762  28741.800000  882.380952  0.500000  27694.366667   \n",
       "4  777.210526     1.894737  28874.290323  846.368421  0.500000  27787.096774   \n",
       "\n",
       "   tasa_desempleo  ipc  imacec    utm  Casos Nuevos Mensuales  \n",
       "0            7.43  0.6     1.5  49673                  2738.0  \n",
       "1            7.81  0.4     2.7  49723                 12992.0  \n",
       "2            8.23  0.3    -3.5  50021                 82680.0  \n",
       "3            9.00  0.0   -14.1  50221                142812.0  \n",
       "4           11.21 -0.1   -15.3  50372                 73494.0  "
      ]
     },
     "execution_count": 33,
     "metadata": {},
     "output_type": "execute_result"
    }
   ],
   "source": [
    "df_final.head() #Observamos los valores de casos nuevos para encontrar el periodo en el que hubo más."
   ]
  },
  {
   "cell_type": "markdown",
   "id": "78af0e39",
   "metadata": {},
   "source": [
    "Notamos que los índices del 12 al 15 corresponen al período de mayor número de nuevos contagiados, por lo que lo recortaremos desde el inicio de ese periodo. Pero primero normalizaremos los datos por la gran diferencia que hay entre los valores"
   ]
  },
  {
   "cell_type": "code",
   "execution_count": 14,
   "id": "2f13cf19",
   "metadata": {},
   "outputs": [
    {
     "data": {
      "text/html": [
       "<div>\n",
       "<style scoped>\n",
       "    .dataframe tbody tr th:only-of-type {\n",
       "        vertical-align: middle;\n",
       "    }\n",
       "\n",
       "    .dataframe tbody tr th {\n",
       "        vertical-align: top;\n",
       "    }\n",
       "\n",
       "    .dataframe thead th {\n",
       "        text-align: right;\n",
       "    }\n",
       "</style>\n",
       "<table border=\"1\" class=\"dataframe\">\n",
       "  <thead>\n",
       "    <tr style=\"text-align: right;\">\n",
       "      <th></th>\n",
       "      <th>dolar</th>\n",
       "      <th>libra_cobre</th>\n",
       "      <th>ivp</th>\n",
       "      <th>euro</th>\n",
       "      <th>tpm</th>\n",
       "      <th>uf</th>\n",
       "      <th>tasa_desempleo</th>\n",
       "      <th>ipc</th>\n",
       "      <th>imacec</th>\n",
       "      <th>utm</th>\n",
       "      <th>Casos Nuevos Mensuales</th>\n",
       "    </tr>\n",
       "  </thead>\n",
       "  <tbody>\n",
       "    <tr>\n",
       "      <th>12</th>\n",
       "      <td>-1.239627</td>\n",
       "      <td>-0.054987</td>\n",
       "      <td>-0.154709</td>\n",
       "      <td>-0.760451</td>\n",
       "      <td>-0.508065</td>\n",
       "      <td>-0.178504</td>\n",
       "      <td>0.229353</td>\n",
       "      <td>0.825073</td>\n",
       "      <td>-0.474526</td>\n",
       "      <td>-0.134213</td>\n",
       "      <td>1.575935</td>\n",
       "    </tr>\n",
       "    <tr>\n",
       "      <th>13</th>\n",
       "      <td>-1.292933</td>\n",
       "      <td>0.195272</td>\n",
       "      <td>-0.187136</td>\n",
       "      <td>-1.060976</td>\n",
       "      <td>-0.508065</td>\n",
       "      <td>-0.166951</td>\n",
       "      <td>0.256247</td>\n",
       "      <td>-0.530404</td>\n",
       "      <td>-0.394537</td>\n",
       "      <td>0.013610</td>\n",
       "      <td>2.011585</td>\n",
       "    </tr>\n",
       "    <tr>\n",
       "      <th>14</th>\n",
       "      <td>-1.060454</td>\n",
       "      <td>1.057578</td>\n",
       "      <td>0.237377</td>\n",
       "      <td>-1.144461</td>\n",
       "      <td>-0.508065</td>\n",
       "      <td>0.296093</td>\n",
       "      <td>0.275457</td>\n",
       "      <td>0.011787</td>\n",
       "      <td>0.369806</td>\n",
       "      <td>0.359497</td>\n",
       "      <td>1.789259</td>\n",
       "    </tr>\n",
       "    <tr>\n",
       "      <th>15</th>\n",
       "      <td>-1.606538</td>\n",
       "      <td>0.966904</td>\n",
       "      <td>0.400646</td>\n",
       "      <td>-1.996842</td>\n",
       "      <td>-0.508065</td>\n",
       "      <td>0.375720</td>\n",
       "      <td>0.233195</td>\n",
       "      <td>0.011787</td>\n",
       "      <td>1.054159</td>\n",
       "      <td>0.459011</td>\n",
       "      <td>1.587296</td>\n",
       "    </tr>\n",
       "    <tr>\n",
       "      <th>16</th>\n",
       "      <td>-1.525190</td>\n",
       "      <td>1.133743</td>\n",
       "      <td>0.667204</td>\n",
       "      <td>-1.375621</td>\n",
       "      <td>-0.508065</td>\n",
       "      <td>0.632698</td>\n",
       "      <td>0.156354</td>\n",
       "      <td>-0.259309</td>\n",
       "      <td>1.409667</td>\n",
       "      <td>0.658041</td>\n",
       "      <td>-0.175654</td>\n",
       "    </tr>\n",
       "    <tr>\n",
       "      <th>17</th>\n",
       "      <td>-1.176169</td>\n",
       "      <td>1.133743</td>\n",
       "      <td>0.794286</td>\n",
       "      <td>-0.923824</td>\n",
       "      <td>-0.508065</td>\n",
       "      <td>0.764675</td>\n",
       "      <td>-0.051116</td>\n",
       "      <td>-0.801499</td>\n",
       "      <td>1.587421</td>\n",
       "      <td>0.858037</td>\n",
       "      <td>-0.747155</td>\n",
       "    </tr>\n",
       "    <tr>\n",
       "      <th>18</th>\n",
       "      <td>-0.534393</td>\n",
       "      <td>1.145660</td>\n",
       "      <td>1.071638</td>\n",
       "      <td>-0.392885</td>\n",
       "      <td>-0.508065</td>\n",
       "      <td>0.949230</td>\n",
       "      <td>-0.270112</td>\n",
       "      <td>1.096168</td>\n",
       "      <td>1.409667</td>\n",
       "      <td>1.008758</td>\n",
       "      <td>-0.849067</td>\n",
       "    </tr>\n",
       "    <tr>\n",
       "      <th>19</th>\n",
       "      <td>0.215186</td>\n",
       "      <td>1.156494</td>\n",
       "      <td>1.275217</td>\n",
       "      <td>0.847060</td>\n",
       "      <td>-0.508065</td>\n",
       "      <td>1.100986</td>\n",
       "      <td>-0.416109</td>\n",
       "      <td>0.011787</td>\n",
       "      <td>1.498544</td>\n",
       "      <td>1.058999</td>\n",
       "      <td>-1.095849</td>\n",
       "    </tr>\n",
       "    <tr>\n",
       "      <th>20</th>\n",
       "      <td>0.251284</td>\n",
       "      <td>1.145660</td>\n",
       "      <td>1.420472</td>\n",
       "      <td>0.953670</td>\n",
       "      <td>0.717973</td>\n",
       "      <td>1.385712</td>\n",
       "      <td>-0.469898</td>\n",
       "      <td>2.180549</td>\n",
       "      <td>1.187474</td>\n",
       "      <td>1.462855</td>\n",
       "      <td>-1.095849</td>\n",
       "    </tr>\n",
       "    <tr>\n",
       "      <th>21</th>\n",
       "      <td>0.926844</td>\n",
       "      <td>1.196308</td>\n",
       "      <td>1.730055</td>\n",
       "      <td>1.665942</td>\n",
       "      <td>2.337634</td>\n",
       "      <td>1.769838</td>\n",
       "      <td>-0.596685</td>\n",
       "      <td>2.451644</td>\n",
       "      <td>1.134148</td>\n",
       "      <td>1.666715</td>\n",
       "      <td>-1.095849</td>\n",
       "    </tr>\n",
       "    <tr>\n",
       "      <th>22</th>\n",
       "      <td>0.940261</td>\n",
       "      <td>1.145660</td>\n",
       "      <td>1.989078</td>\n",
       "      <td>1.072766</td>\n",
       "      <td>3.299107</td>\n",
       "      <td>2.332053</td>\n",
       "      <td>-3.701050</td>\n",
       "      <td>0.282882</td>\n",
       "      <td>-0.199007</td>\n",
       "      <td>2.279262</td>\n",
       "      <td>-1.095849</td>\n",
       "    </tr>\n",
       "  </tbody>\n",
       "</table>\n",
       "</div>"
      ],
      "text/plain": [
       "       dolar  libra_cobre       ivp      euro       tpm        uf  \\\n",
       "12 -1.239627    -0.054987 -0.154709 -0.760451 -0.508065 -0.178504   \n",
       "13 -1.292933     0.195272 -0.187136 -1.060976 -0.508065 -0.166951   \n",
       "14 -1.060454     1.057578  0.237377 -1.144461 -0.508065  0.296093   \n",
       "15 -1.606538     0.966904  0.400646 -1.996842 -0.508065  0.375720   \n",
       "16 -1.525190     1.133743  0.667204 -1.375621 -0.508065  0.632698   \n",
       "17 -1.176169     1.133743  0.794286 -0.923824 -0.508065  0.764675   \n",
       "18 -0.534393     1.145660  1.071638 -0.392885 -0.508065  0.949230   \n",
       "19  0.215186     1.156494  1.275217  0.847060 -0.508065  1.100986   \n",
       "20  0.251284     1.145660  1.420472  0.953670  0.717973  1.385712   \n",
       "21  0.926844     1.196308  1.730055  1.665942  2.337634  1.769838   \n",
       "22  0.940261     1.145660  1.989078  1.072766  3.299107  2.332053   \n",
       "\n",
       "    tasa_desempleo       ipc    imacec       utm  Casos Nuevos Mensuales  \n",
       "12        0.229353  0.825073 -0.474526 -0.134213                1.575935  \n",
       "13        0.256247 -0.530404 -0.394537  0.013610                2.011585  \n",
       "14        0.275457  0.011787  0.369806  0.359497                1.789259  \n",
       "15        0.233195  0.011787  1.054159  0.459011                1.587296  \n",
       "16        0.156354 -0.259309  1.409667  0.658041               -0.175654  \n",
       "17       -0.051116 -0.801499  1.587421  0.858037               -0.747155  \n",
       "18       -0.270112  1.096168  1.409667  1.008758               -0.849067  \n",
       "19       -0.416109  0.011787  1.498544  1.058999               -1.095849  \n",
       "20       -0.469898  2.180549  1.187474  1.462855               -1.095849  \n",
       "21       -0.596685  2.451644  1.134148  1.666715               -1.095849  \n",
       "22       -3.701050  0.282882 -0.199007  2.279262               -1.095849  "
      ]
     },
     "execution_count": 14,
     "metadata": {},
     "output_type": "execute_result"
    }
   ],
   "source": [
    "#normalizamos los datos para llevarlos a una misma escala y asi visualizarlos todos en un solo grafico\n",
    "scaler = StandardScaler()\n",
    "dat_np = scaler.fit_transform(df_final)\n",
    "\n",
    "indices = [i for i in range(len(df_final))]\n",
    "df_norm = pd.DataFrame(dat_np, index=indices, columns=df_final.columns)\n",
    "\n",
    "df_norm = df_norm.iloc[12:]\n",
    "\n",
    "df_norm\n",
    "\n",
    "\n"
   ]
  },
  {
   "cell_type": "code",
   "execution_count": 32,
   "id": "7e69a545",
   "metadata": {},
   "outputs": [
    {
     "data": {
      "text/plain": [
       "<matplotlib.legend.Legend at 0x2ad6d2bf190>"
      ]
     },
     "execution_count": 32,
     "metadata": {},
     "output_type": "execute_result"
    },
    {
     "data": {
      "image/png": "[encoded data removed]",
      "text/plain": [
       "<Figure size 1008x432 with 1 Axes>"
      ]
     },
     "metadata": {
      "needs_background": "light"
     },
     "output_type": "display_data"
    }
   ],
   "source": [
    "fig = plt.figure(figsize=(14, 6))\n",
    "meses = tuple(range(13,24))\n",
    "\n",
    "#plt.plot(meses, df_norm['dolar'], linewidth=3, c='green', label=r'$Huevos,\\ crías$')\n",
    "#plt.plot(meses, df_norm['libra_cobre'], linewidth=3, c='red', label=r'$Juveniles\\ pequeños$')\n",
    "#plt.plot(meses, df_norm['euro'], linewidth=3, c='black', label=r'$Subadultos$')\n",
    "plt.plot(meses, df_norm['ivp'], linewidth=3, c='blue', label=r'$IVP$')\n",
    "plt.plot(meses, df_norm['tpm'], linewidth=3, c='pink', label=r'$TPM$')\n",
    "plt.plot(meses, df_norm['uf'], linewidth=3, c='orange', label=r'$UF$')\n",
    "plt.plot(meses, df_norm['tasa_desempleo'], linewidth=3, c='purple', label=r'$Tasa\\ desempleo$')\n",
    "plt.plot(meses, df_norm['ipc'], linewidth=3, c='gray', label=r'$IPC$')\n",
    "plt.plot(meses, df_norm['imacec'], linewidth=3, c='black', label=r'$IPC$')\n",
    "plt.plot(meses, df_norm['utm'], linewidth=3, c='green', label=r'$UTM$')\n",
    "plt.plot(meses, df_norm['Casos Nuevos Mensuales'], linewidth=3, c='red', label=r'$Covid$')\n",
    "\n",
    "plt.xlabel(\"Tiempo en Meses\")\n",
    "plt.legend()"
   ]
  },
  {
   "cell_type": "markdown",
   "id": "8fb8ecd3",
   "metadata": {
    "scrolled": true
   },
   "source": [
    "Notamos que cuando se presenta el mayor índice de covid en el país el IPC muestra una bajada en su valor, mientras que la tasa dedesempleo y el UTM mantienen un crecimiento moderado, y finalmente la tasa de desempleo comienza a disminuír su valor mientras los casos de covid-19 lo hacen."
   ]
  },
  {
   "cell_type": "markdown",
   "id": "cb24f76e",
   "metadata": {},
   "source": [
    "### ¿Tuvo el COVID-19 consecuencias directas en el valor de la Unidad de Fomento (UF)?"
   ]
  },
  {
   "cell_type": "code",
   "execution_count": 16,
   "id": "24e88c77",
   "metadata": {},
   "outputs": [
    {
     "data": {
      "text/html": [
       "<div>\n",
       "<style scoped>\n",
       "    .dataframe tbody tr th:only-of-type {\n",
       "        vertical-align: middle;\n",
       "    }\n",
       "\n",
       "    .dataframe tbody tr th {\n",
       "        vertical-align: top;\n",
       "    }\n",
       "\n",
       "    .dataframe thead th {\n",
       "        text-align: right;\n",
       "    }\n",
       "</style>\n",
       "<table border=\"1\" class=\"dataframe\">\n",
       "  <thead>\n",
       "    <tr style=\"text-align: right;\">\n",
       "      <th></th>\n",
       "      <th>uf</th>\n",
       "      <th>Casos Nuevos Mensuales</th>\n",
       "    </tr>\n",
       "  </thead>\n",
       "  <tbody>\n",
       "    <tr>\n",
       "      <th>uf</th>\n",
       "      <td>1.000000</td>\n",
       "      <td>-0.331252</td>\n",
       "    </tr>\n",
       "    <tr>\n",
       "      <th>Casos Nuevos Mensuales</th>\n",
       "      <td>-0.331252</td>\n",
       "      <td>1.000000</td>\n",
       "    </tr>\n",
       "  </tbody>\n",
       "</table>\n",
       "</div>"
      ],
      "text/plain": [
       "                              uf  Casos Nuevos Mensuales\n",
       "uf                      1.000000               -0.331252\n",
       "Casos Nuevos Mensuales -0.331252                1.000000"
      ]
     },
     "execution_count": 16,
     "metadata": {},
     "output_type": "execute_result"
    }
   ],
   "source": [
    "df_final[[\"uf\", \"Casos Nuevos Mensuales\"]].corr()"
   ]
  },
  {
   "cell_type": "code",
   "execution_count": 17,
   "id": "384ccc79",
   "metadata": {},
   "outputs": [
    {
     "data": {
      "image/png": "[encoded data removed]",
      "text/plain": [
       "<Figure size 360x360 with 1 Axes>"
      ]
     },
     "metadata": {
      "needs_background": "light"
     },
     "output_type": "display_data"
    }
   ],
   "source": [
    "\n",
    "#graficamos para ver si logramos observar alguna relación entre los casos de covid y el resto de varibles\n",
    "\n",
    "sns.lmplot(data=df_final, x='Casos Nuevos Mensuales', y=\"uf\");"
   ]
  },
  {
   "cell_type": "markdown",
   "id": "8a2c1363",
   "metadata": {},
   "source": [
    "A pesar de que el gráfico da a pensar que puede haber una relación inversa, al ver la correlación que mantiene la tasa de desempleo y el número de casos nuevos por mes notamos que es un valor muy bajo (cercano a -0.3) por lo que no se puede afirmar que la pandemia fue el principal factor de una disminución del crecimiento de la uf."
   ]
  },
  {
   "cell_type": "markdown",
   "id": "f6b504cf",
   "metadata": {},
   "source": [
    "### ¿Se puede crear un modelo que prediga los valores de la unidad de fomento (UF) y la tasa de desempleo en base al resto de indicadores economicos y el numero de casos de covid-19 en Chile?"
   ]
  },
  {
   "cell_type": "markdown",
   "id": "fd1b104c",
   "metadata": {},
   "source": [
    "Como logramos ver en la pregunta 2, logramos indentificar que los casos de covid-19, no tiene una alta influencia en el ambos indicadores por lo consideramos que no es necesario para formar nuestro modelo."
   ]
  },
  {
   "cell_type": "markdown",
   "id": "0348739f",
   "metadata": {},
   "source": [
    "Para esto se usarán dos modelos de predicción, una para la unidad de fomento (UF) y otra para la tasa de desempleo, cada una será puesta a prueba en las variantes de regresión lineal, de Lasso y de Ridge, probando diversos valores de alpha para encontrar el que mejor se adapta."
   ]
  },
  {
   "cell_type": "markdown",
   "id": "e9fd2477",
   "metadata": {},
   "source": [
    "#### Modelo de predicción del valor de la UF"
   ]
  },
  {
   "cell_type": "code",
   "execution_count": 18,
   "id": "7e565a00",
   "metadata": {},
   "outputs": [
    {
     "name": "stdout",
     "output_type": "stream",
     "text": [
      "R2 de entrenamiento: 0.9951480870315337 ----- R2 de prueba: 0.9783480866724779\n",
      "MSE de entrenamiento: 1463.544531300639 ----- MSE de prueba: 7330.1044946381135\n"
     ]
    }
   ],
   "source": [
    "x = df_final[[\"libra_cobre\", \"ivp\", \"imacec\", \"utm\", \"tasa_desempleo\"]]\n",
    "y = df_final[\"uf\"]\n",
    "\n",
    "columns = x.columns\n",
    "\n",
    "x_train, x_test, y_train, y_test = train_test_split(x, y, test_size=0.3, random_state=0)\n",
    "\n",
    "linreg = LinearRegression() \n",
    "linreg.fit(x_train, y_train) \n",
    "\n",
    "# Hacemos las predicciones para train y test\n",
    "y_pred_train=linreg.predict(x_train) \n",
    "\n",
    "y_pred_test = linreg.predict(x_test)\n",
    "\n",
    "mse_train = mean_squared_error(y_train, y_pred_train) \n",
    "r2_train = linreg.score(x_train, y_train)\n",
    "\n",
    "mse_test = mean_squared_error(y_test, y_pred_test)\n",
    "r2_test = linreg.score(x_test, y_test)\n",
    "print(f\"R2 de entrenamiento: {r2_train} ----- R2 de prueba: {r2_test}\")\n",
    "print(f\"MSE de entrenamiento: {mse_train} ----- MSE de prueba: {mse_test}\")"
   ]
  },
  {
   "cell_type": "code",
   "execution_count": 19,
   "id": "bc2d05a3",
   "metadata": {},
   "outputs": [
    {
     "name": "stdout",
     "output_type": "stream",
     "text": [
      "-0.5427820438549462\n",
      "0.0001\n"
     ]
    }
   ],
   "source": [
    "from sklearn.model_selection import GridSearchCV\n",
    "\n",
    "model=Ridge() # Creamos el modelo de ridge\n",
    "\n",
    "alphas=np.array([0.0001, 0.001, 0.01, 0.1, 1, 10, 100, 1000, 10000, 100000]) # Creamos array con los alphas a probar\n",
    "\n",
    "grid = GridSearchCV(estimator=model, param_grid=dict(alpha=alphas)) # Creamos grid para calcular los mejores valores de alpha\n",
    "grid.fit(x_train, y_train) # Se entrena\n",
    "# print(grid)\n",
    "print(grid.best_score_)\n",
    "score_ridge = grid.best_score_\n",
    "print(grid.best_estimator_.alpha)"
   ]
  },
  {
   "cell_type": "code",
   "execution_count": 20,
   "id": "cc10cf61",
   "metadata": {},
   "outputs": [
    {
     "name": "stdout",
     "output_type": "stream",
     "text": [
      "-0.5427217303136812\n",
      "0.0001\n"
     ]
    }
   ],
   "source": [
    "from sklearn.model_selection import GridSearchCV\n",
    "\n",
    "model=Lasso() # Creamos el modelo de ridge\n",
    "\n",
    "alphas=np.array([0.0001, 0.001, 0.01, 0.1, 1, 10, 100, 1000, 10000]) # Creamos array con los alphas a probar\n",
    "\n",
    "grid = GridSearchCV(estimator=model, param_grid=dict(alpha=alphas)) # Creamos grid para calcular los mejores valores de alpha\n",
    "grid.fit(x_train, y_train) # Se entrena\n",
    "#print(grid)\n",
    "print(grid.best_score_)\n",
    "score_ridge = grid.best_score_\n",
    "print(grid.best_estimator_.alpha)"
   ]
  },
  {
   "cell_type": "markdown",
   "id": "61c1d793",
   "metadata": {},
   "source": [
    "Como podemos observar, el modelo que mejor se adapta es el primero, es decir, el lineal regular, que presenta valores de r2 cercanos a 0.97, lo cual es muy bueno, y valores de 1463 y 7330 en error cuadrático medio para entrenamiento y prueba respectivamente."
   ]
  },
  {
   "cell_type": "markdown",
   "id": "b51dfd00",
   "metadata": {},
   "source": [
    "#### Modelo de predicción del valor de la tasa de desempleo"
   ]
  },
  {
   "cell_type": "code",
   "execution_count": 21,
   "id": "c45688f2",
   "metadata": {
    "scrolled": true
   },
   "outputs": [
    {
     "name": "stdout",
     "output_type": "stream",
     "text": [
      "R2 de entrenamiento: 0.8997003438368518 ----- R2 de prueba: -3.3376491503836565\n",
      "MSE de entrenamiento: 0.9139411237970732 ----- MSE de prueba: 5.948209427575903\n"
     ]
    }
   ],
   "source": [
    "x = df_final[[\"tpm\", \"uf\"]]\n",
    "y = df_final[\"tasa_desempleo\"]\n",
    "\n",
    "columns = x.columns\n",
    "\n",
    "x_train, x_test, y_train, y_test = train_test_split(x, y, test_size=0.3, random_state=0)\n",
    "\n",
    "linreg = LinearRegression() \n",
    "linreg.fit(x_train, y_train) \n",
    "\n",
    "# Hacemos las predicciones para train y test\n",
    "y_pred_train=linreg.predict(x_train) \n",
    "\n",
    "y_pred_test = linreg.predict(x_test)\n",
    "\n",
    "mse_train = mean_squared_error(y_train, y_pred_train) \n",
    "r2_train = linreg.score(x_train, y_train)\n",
    "\n",
    "mse_test = mean_squared_error(y_test, y_pred_test)\n",
    "r2_test = linreg.score(x_test, y_test)\n",
    "print(f\"R2 de entrenamiento: {r2_train} ----- R2 de prueba: {r2_test}\")\n",
    "print(f\"MSE de entrenamiento: {mse_train} ----- MSE de prueba: {mse_test}\")\n",
    "score_lineal = r2_test"
   ]
  },
  {
   "cell_type": "code",
   "execution_count": 24,
   "id": "ede967d2",
   "metadata": {},
   "outputs": [
    {
     "name": "stdout",
     "output_type": "stream",
     "text": [
      "0.650808593027979\n",
      "0.0001\n"
     ]
    }
   ],
   "source": [
    "from sklearn.model_selection import GridSearchCV\n",
    "\n",
    "model=Ridge() # Creamos el modelo de ridge\n",
    "\n",
    "alphas=np.array([0.0001, 0.001, 0.01, 0.1, 1, 10, 100, 1000, 10000, 100000]) # Creamos array con los alphas a probar\n",
    "\n",
    "grid = GridSearchCV(estimator=model, param_grid=dict(alpha=alphas)) # Creamos grid para calcular los mejores valores de alpha\n",
    "grid.fit(x_train, y_train) # Se entrena\n",
    "# print(grid)\n",
    "print(grid.best_score_)\n",
    "score_ridge = grid.best_score_\n",
    "print(grid.best_estimator_.alpha)"
   ]
  },
  {
   "cell_type": "code",
   "execution_count": 23,
   "id": "9d5d0486",
   "metadata": {},
   "outputs": [
    {
     "name": "stdout",
     "output_type": "stream",
     "text": [
      "GridSearchCV(estimator=Lasso(),\n",
      "             param_grid={'alpha': array([1.e-04, 1.e-03, 1.e-02, 1.e-01, 1.e+00, 1.e+01, 1.e+02, 1.e+03,\n",
      "       1.e+04])})\n",
      "0.6507897581998277\n",
      "0.0001\n"
     ]
    }
   ],
   "source": [
    "from sklearn.model_selection import GridSearchCV\n",
    "\n",
    "model=Lasso() # Creamos el modelo de ridge\n",
    "\n",
    "alphas=np.array([0.0001, 0.001, 0.01, 0.1, 1, 10, 100, 1000, 10000]) # Creamos array con los alphas a probar\n",
    "\n",
    "grid = GridSearchCV(estimator=model, param_grid=dict(alpha=alphas)) # Creamos grid para calcular los mejores valores de alpha\n",
    "grid.fit(x_train, y_train) # Se entrena\n",
    "# print(grid)\n",
    "print(grid.best_score_)\n",
    "score_ridge = grid.best_score_\n",
    "print(grid.best_estimator_.alpha)"
   ]
  },
  {
   "cell_type": "markdown",
   "id": "74fdf309",
   "metadata": {},
   "source": [
    "De los tres modelos de regresión, el que mejor se adapta a nuestras variables de predicción es el de Ridge con un valor r2 de 0.6508, el cual es un valor aceptable, pero no lo suficientemente alto para asegurar que podemos predecir la tasa de desempleo."
   ]
  },
  {
   "cell_type": "markdown",
   "id": "f392466b",
   "metadata": {},
   "source": [
    "## Respuestas"
   ]
  },
  {
   "cell_type": "markdown",
   "id": "f1edcecd",
   "metadata": {},
   "source": [
    "**1- ¿Cúales indicadores económicos son los que mantienen una mayor relación con la Unidad de Fomento (UF) y la tasa de desempleo, y cuales mantienen una menor relación**: Concluimos que la *libra del cobre, IVP, Tase de desempleo y UTM*, mantienen una fuerte relación con la *UF*, y el *TPM* y la *UF* se relaciona con  la *Tasa de desempleo*.\n",
    "\n",
    "**2- ¿Tuvo el COVID-19 una relación directa en el aumento de la tasa de desempleo?**: No pudimos afirmar que el covid fue el principal factor de la alza de la tasa de desmpleos ya que no existe una fuerte relación entre estos. \n",
    "\n",
    "**3-Considerando el periodo en donde hubo mayor tasa de contaigos de COVID-19 en el país, ¿Es posible visualizar consecuencias inmediatas en la economía del país?**: Logramos notar que cuando se observa un mayor indice de casos de covid, el IPC muestra una bajada en su valor, mientras que la Tasa de desempleo y el UTM mantienen un crecimineto moderado, finalmente cuando los casos de covid se estabilizan, la tasa de desemplo baja fuertemente.\n",
    "\n",
    "**4-¿Tuvo el COVID-19 consecuencias directas en el valor de la Unidad de Fomento (UF)?**: No pudimos afirmar comodamente que el covid-19 es principal factor de la disminución del creciemiento del UF ya que no existe una fuerte relación entre estos\n",
    "\n",
    "**5-¿Se puede crear un modelo que prediga los valores de la unidad de fomento (UF) y la tasa de desempleo en base al resto de indicadores economicos y el numero de casos de covid-19 en Chile?**: \n",
    "- **Modelo predictorio Unidad de fomento**: Logramos ver que si podemos obtener un modelo optimo, el cual seria un modelo de regresion lineal el cual cuenta con un R2  en los datos de prueba de 0.97 \n",
    "- **Modelo predictorio Tasa de Desempleo**: En este caso el mejor modelo que logramos obtener es un modelo realizado con regresión Ridge el cual cuenta con un R2 en los datos de prueba de 0.65, lo cual no es suficiente para asegurar construir un modelo optimo de predicción."
   ]
  },
  {
   "cell_type": "markdown",
   "id": "4beb7ec8",
   "metadata": {},
   "source": [
    "## Conclusiones\n",
    "1) El covid no fue uno de los principales influyentes en el cambio del precio del UF y la alza en la tasa de desempleo\n",
    "\n",
    "2) Los principales índices economicos de Chile y los casos de coronavirus suman un conjunto de información insuficiente para implementar un modelo de predicción con respecto a la tasa de desempleo, lo que significa que hay muchos otros factores que le influyen.\n",
    "\n",
    "3) Los índices de la libra de cobre, el ivp, imacec, tasa de desempleo y el valor de la utm suman un conjunto de información capaz de modelar un sistema de predcción consistente y preciso, lo que quiere decir que son estos algunos (suficientes) de los que mayor influencia tienen en sus variaciones."
   ]
  },
  {
   "cell_type": "code",
   "execution_count": null,
   "id": "f3539484",
   "metadata": {},
   "outputs": [],
   "source": []
  }
 ],
 "metadata": {
  "kernelspec": {
   "display_name": "Python 3 (ipykernel)",
   "language": "python",
   "name": "python3"
  },
  "language_info": {
   "codemirror_mode": {
    "name": "ipython",
    "version": 3
   },
   "file_extension": ".py",
   "mimetype": "text/x-python",
   "name": "python",
   "nbconvert_exporter": "python",
   "pygments_lexer": "ipython3",
   "version": "3.9.4"
  }
 },
 "nbformat": 4,
 "nbformat_minor": 5
}
