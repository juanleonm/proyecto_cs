{
 "cells": [
  {
   "cell_type": "markdown",
   "id": "e540e1ca",
   "metadata": {},
   "source": [
    "# <img style=\"float: left; padding-right: 0.7cm; width: 3.0cm\" src=\"https://upload.wikimedia.org/wikipedia/commons/thumb/8/84/Escudo_de_la_Pontificia_Universidad_Cat%C3%B3lica_de_Chile.svg/179px-Escudo_de_la_Pontificia_Universidad_Cat%C3%B3lica_de_Chile.svg.png\"> IMT 2200 - Introducción a Ciencia de Datos\n",
    "**Pontificia Universidad Católica de Chile**<br>\n",
    "**Semestre 2021-1**<br>\n",
    "**Autores:** Juan León, Alonso Tamayo, Bruno Cerda, Ignacio Leiva<br>\n",
    "\n",
    "----"
   ]
  },
  {
   "cell_type": "markdown",
   "id": "9e4ef532",
   "metadata": {},
   "source": [
    "<h1><center>Efectos del covid-19 en la economia chilena </center></h1>"
   ]
  },
  {
   "attachments": {},
   "cell_type": "markdown",
   "id": "6290cd41",
   "metadata": {},
   "source": [
    "## Contexto y motivación\n",
    "\n",
    "No es difícil darse cuenta de que la pandemia provocada por el COVID-19 tuvo fuertes consecuencias en muchos aspectos, uno en especial, en el cual nos vamos a enfocar, es en la economía. Según el [Banco Mundial](https://www.bancomundial.org/es/news/press-release/2020/06/08/covid-19-to-plunge-global-economy-into-worst-recession-since-world-war-ii), el COVID-19 ha causado la peor recesión económica desde la segunda guerra mundial, causando que la economía mundial se redujera en un 5,2%. \n",
    "\n",
    "Nuestra motivación surge de unas cifras un poco mas especificas, se estima que las economías avanzadas se contraerán un 7% y las economías emergentes un 2,5%, a partir de esta cifra nosotros nos preguntamos como están relacionadas las cifras económicas afectadas de Chile con los efectos del COVID-19. \n",
    "\n",
    "La economía chilena es una emergente, la cual depende principalmente de factores como el turismo, comercio internacional, etc. Los efectos económicos del COVID-19 en Chile se vieron reflejados en las innumerables noticias sobre la perdida de empleos, quiebre de pequeñas y medianas empresas y el aumento de la pobreza. Es a partir de esto en donde nosotros conseguimos nuestra inspiración para investigar de una manera profunda y ver que tan relacionadas están las cifras que nos ha dejado el COVID-19 con los indicadores mas relevantes de la economía del país, para así poder identificar las consecuencias de la pandemia provocada por el COVID-19 en la economía chilena."
   ]
  },
  {
   "attachments": {},
   "cell_type": "markdown",
   "id": "4a054978",
   "metadata": {},
   "source": [
    "## Objetivos\n",
    "\n",
    "Buscamos responder efectivamente que tanto afecto la pandemia a la economía chilena, en comparación a como se estaba comportado pre-pandemia, y que tan relacionados están los indicadores económicos mas importantes con los efectos del COVID-19. El objetivo es conocer resultados mas precisos y específicos sobre como se relacionan los efectos de la pandemia con cada uno de los principales indicadores de la economía del país, y de esta manera también encontrar cuales de estos fueron los mas afectados, estos resultados pueden ser de gran aporte e importancia para economistas o instituciones que busquen tomar precauciones o medidas para prevenir en primer lugar que estos efectos adversos ocurran en el futuro. \n",
    "\n",
    "Las preguntas que buscamos responder con nuestro análisis de los datos son las siguientes:\n",
    "\n",
    "* Que tan relacionados están los datos del COVID-19 en Chile durante el periodo de la pandemia junto a los datos de los indicadores económicos mas importantes del país, por ejemplo, la Tasa de desempleo, unidad de fomento, índice precio del consumidor, etc. \n",
    "\n",
    "* Considerando el periodo que hubo mayor tasa de contagios de COVID-19 en el país, ¿es posible visualizar consecuencias inmediatas en la economía del país?\n",
    "\n",
    "* ¿Cual o cuales fueron los índices que tuvieron un mayor, menor o ningún cambio significativo producto de la pandemia? \n",
    "\n",
    "* ¿Como se estabilizará la economía chilena y sus principales índices dado un eventual control de la pandemia?\n",
    "\n",
    "* Independiente de los contagios de COVID-19, ¿Cuál es la relación entre las variables económicas? Por ejemplo, ¿cual es la relación entre la Tasa Política Monetaria (TPM) y el dólar?"
   ]
  },
  {
   "attachments": {},
   "cell_type": "markdown",
   "id": "26aa493a",
   "metadata": {},
   "source": [
    "## Datos utilizados.\n",
    "\n",
    "Los datos que vamos a utilizar para llevar a cabo este proyecto son conjuntos de datos relacionados a la economía y la salud chilena. Concretamente los datos económicos que vamos a analizar son:\n",
    "\n",
    "* Tasa de desempleo\n",
    "* IMACEC\n",
    "* Índice precio del consumidor (IPC)\n",
    "* Índice valor promedio (IVP)\n",
    "* Valor del dólar\n",
    "* Valor del euro\n",
    "* Tasa política monetaria (TPM)\n",
    "* Unidad de fomento (UF)\n",
    "* Unidad Tributaria Mensual (UTM)\n",
    "\n",
    "Los datos relacionados a la salud que vamos a utilizar son:\n",
    "\n",
    "* Conjunto de datos que representan casos de COVID-19 a nivel nacional. Incluye casos nuevos confirmados, totales o acumulados, recuperados, etc.\n",
    "* Conjunto de datos que representa el avance de la campaña de vacunación a nivel regional. \n",
    "\n",
    "Los datos económicos que vamos a utilizar fueron obtenidos a través de una API llamada “miindicador.cl”, y los datos relacionados al COVID-19 fueron obtenidos a través del repositorio de GitHub del Ministerio de Ciencia y Tecnología. A continuación, una muestra de los datos que vamos a trabajar e incorporar a una Dataframe."
   ]
  },
  {
   "cell_type": "code",
   "execution_count": null,
   "id": "0af5c66f",
   "metadata": {},
   "outputs": [],
   "source": []
  }
 ],
 "metadata": {
  "kernelspec": {
   "display_name": "Python 3 (ipykernel)",
   "language": "python",
   "name": "python3"
  },
  "language_info": {
   "codemirror_mode": {
    "name": "ipython",
    "version": 3
   },
   "file_extension": ".py",
   "mimetype": "text/x-python",
   "name": "python",
   "nbconvert_exporter": "python",
   "pygments_lexer": "ipython3",
   "version": "3.9.7"
  }
 },
 "nbformat": 4,
 "nbformat_minor": 5
}
